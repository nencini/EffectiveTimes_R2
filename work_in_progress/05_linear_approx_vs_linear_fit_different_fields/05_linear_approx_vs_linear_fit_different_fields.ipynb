{
 "cells": [
  {
   "cell_type": "code",
   "execution_count": 2,
   "id": "337a997a",
   "metadata": {},
   "outputs": [
    {
     "data": {
      "text/plain": [
       "0"
      ]
     },
     "execution_count": 2,
     "metadata": {},
     "output_type": "execute_result"
    }
   ],
   "source": [
    "import sys\n",
    "#sys.path.append(\"/home/ricky/Documents/from_work/git/NMR_FF_tools/relaxation_times/\")\n",
    "\n",
    "sys.path.append(\"../\")\n",
    "\n",
    "import numpy as np\n",
    "#import relaxation_times as rt\n",
    "#import manage_files as mf\n",
    "#*import plotting as pt\n",
    "import matplotlib.pyplot as plt\n",
    "import os\n",
    "import re\n",
    "import yaml\n",
    "import gc\n",
    "import math\n",
    "\n",
    "\n",
    "import SRT_optimization as srt\n",
    "\n",
    "import fnmatch\n",
    "\n",
    "gc.collect()"
   ]
  },
  {
   "cell_type": "code",
   "execution_count": 11,
   "id": "efd84878",
   "metadata": {},
   "outputs": [],
   "source": [
    "gammaH=267.513*10**6;\n",
    "gammaN=-27.166*10**6;\n",
    "magn_field_MHz=400 # for values in MHz\n",
    "magnetic_field=magn_field_MHz*2*np.pi/gammaH*10**6\n",
    "save_labels=[\"small_peptides\",\n",
    "       \"peptides_SDSmicelles\",\n",
    "       \"Calmodulin\",\n",
    "       \"CDNF\",\n",
    "       \"EN2\",\n",
    "       \"musMANF\",\n",
    "       \"TonB\"]\n",
    "\n",
    "#Load data from simulations\n",
    "# data is saved in the form [[effTimes],[R1],[R2],[hetNOE]]\n",
    "\n",
    "systems={}\n",
    "for system in save_labels:\n",
    "    systems[system]=np.loadtxt(\"../01_main_figure/simulation_SRT_vs_effTime/\"+system+\"_\"+str(magn_field_MHz)+\".dat\")\n",
    "    \n",
    "\n",
    "# Load the numerically obtined limits \n",
    "# data is saved in the form [[effTimes,effTime[-1:0]],[R1limits_min,R1limits_max[-1:0]]]\n",
    "# resp [[effTimes,effTime[-1:0]],[R2limits_min,R1limits_max[-1:0]]] - the data\n",
    "\n",
    "limits={}\n",
    "limits[\"R1\"]=np.loadtxt(\"../01_main_figure/extremes_of_Redfield/R1_limits_\"+str(magn_field_MHz)+\".dat\")\n",
    "limits[\"R2\"]=np.loadtxt(\"../01_main_figure/extremes_of_Redfield/R2_limits_\"+str(magn_field_MHz)+\".dat\")\n",
    "\n",
    "\n",
    "# Load the 1-timescale approximation\n",
    "# data is saved as [[effTimes],[R1]], [[effTimes],[R2]], [[effTimes],[hetNOE]] \n",
    "\n",
    "oneTime={}\n",
    "oneTime[\"R1\"]=np.loadtxt(\"../01_main_figure/1timescale_data/R1_1timescale_\"+str(magn_field_MHz)+\".dat\")\n",
    "oneTime[\"R2\"]=np.loadtxt(\"../01_main_figure/1timescale_data/R2_1timescale_\"+str(magn_field_MHz)+\".dat\")\n",
    "oneTime[\"hetNOE\"]=np.loadtxt(\"../01_main_figure/1timescale_data/hetNOE_1timescale_\"+str(magn_field_MHz)+\".dat\")"
   ]
  },
  {
   "cell_type": "code",
   "execution_count": 12,
   "id": "d21ec22f",
   "metadata": {},
   "outputs": [
    {
     "name": "stdout",
     "output_type": "stream",
     "text": [
      "[ 0.81227599 -1.106139  ]\n"
     ]
    }
   ],
   "source": [
    "all_x=[]\n",
    "all_y=[]\n",
    "\n",
    "for sys in systems:\n",
    "    all_x+=list(systems[sys][2])\n",
    "    all_y+=list(systems[sys][0])\n",
    "\n",
    "fit=np.polyfit(all_x,all_y,1)\n",
    "print(fit)"
   ]
  },
  {
   "cell_type": "code",
   "execution_count": 7,
   "id": "6869c96b",
   "metadata": {},
   "outputs": [
    {
     "data": {
      "text/plain": [
       "array([ 0.70590538, -0.6371005 ])"
      ]
     },
     "execution_count": 7,
     "metadata": {},
     "output_type": "execute_result"
    }
   ],
   "source": [
    "fit"
   ]
  },
  {
   "cell_type": "code",
   "execution_count": 6,
   "id": "63a9b06e",
   "metadata": {},
   "outputs": [
    {
     "name": "stdout",
     "output_type": "stream",
     "text": [
      "0.8397092058581203\n",
      "0.8146143365517959\n",
      "0.6298151032402055\n",
      "0.6140157268952539\n",
      "0.5145075148002948\n"
     ]
    }
   ],
   "source": [
    "gammaH=267.513*10**6;\n",
    "gammaN=-27.166*10**6;\n",
    "magn_field_MHz=400 # for values in MHz\n",
    "\n",
    "for magn_field_MHz in [300,360,720,750,950]:\n",
    "    magnetic_field=magn_field_MHz*2*np.pi/gammaH*10**6\n",
    "\n",
    "    wh = gammaH * magnetic_field \n",
    "    wn = gammaN * magnetic_field \n",
    "\n",
    "    mu = 4 * np.pi * 10**(-7) #magnetic constant of vacuum permeability\n",
    "    h_planck = 1.055 * 10**(-34); #reduced Planck constant\n",
    "    rN = 0.101 * 10**(-9); # average cubic length of N-H bond\n",
    "    d = 1 * (mu * gammaN * gammaH * h_planck) / (4 * np.pi * rN**3); # dipolar coupling constant\n",
    "\n",
    "    K1=(d**2 / 20)\n",
    "    K2=(wn * 160 * 10**(-6))**2 / 45\n",
    "\n",
    "\n",
    "    print(1/((4*K1+4*K2))*10**9)"
   ]
  },
  {
   "cell_type": "code",
   "execution_count": null,
   "id": "00602bc6",
   "metadata": {},
   "outputs": [],
   "source": []
  }
 ],
 "metadata": {
  "kernelspec": {
   "display_name": "all3",
   "language": "python",
   "name": "all3"
  },
  "language_info": {
   "codemirror_mode": {
    "name": "ipython",
    "version": 3
   },
   "file_extension": ".py",
   "mimetype": "text/x-python",
   "name": "python",
   "nbconvert_exporter": "python",
   "pygments_lexer": "ipython3",
   "version": "3.8.15"
  }
 },
 "nbformat": 4,
 "nbformat_minor": 5
}
