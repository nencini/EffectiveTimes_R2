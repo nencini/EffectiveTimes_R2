{
 "cells": [
  {
   "cell_type": "code",
   "execution_count": 41,
   "id": "85d460d3",
   "metadata": {},
   "outputs": [],
   "source": [
    "import numpy as np\n",
    "import sys\n",
    "sys.path.append(\"../\")\n",
    "import SRT_optimization as srt\n",
    "import matplotlib.pyplot as plt"
   ]
  },
  {
   "cell_type": "code",
   "execution_count": 2,
   "id": "23aa4aa1",
   "metadata": {},
   "outputs": [],
   "source": [
    "NESG_targets={}\n",
    "with open('globular_proteins.dat','r') as f:\n",
    "    for line in f:\n",
    "        if line.startswith('#'):\n",
    "            pass\n",
    "        else:\n",
    "            data=line.split()\n",
    "            NESG_targets[data[0]]={}\n",
    "            NESG_targets[data[0]]['MW']=float(data[2])\n",
    "            NESG_targets[data[0]]['T1']=float(data[3])\n",
    "            NESG_targets[data[0]]['T2']=float(data[4])\n",
    "            NESG_targets[data[0]]['corrT']=float(data[6])"
   ]
  },
  {
   "cell_type": "code",
   "execution_count": 3,
   "id": "9aa2ae56",
   "metadata": {},
   "outputs": [
    {
     "data": {
      "text/plain": [
       "{'PsR76A': {'MW': 7.2, 'T1': 478.0, 'T2': 128.0, 'corrT': 5.1},\n",
       " 'VfR117': {'MW': 11.2, 'T1': 605.0, 'T2': 119.0, 'corrT': 6.3},\n",
       " 'SyR11': {'MW': 12.4, 'T1': 630.0, 'T2': 104.0, 'corrT': 7.1},\n",
       " 'ER541-37-162': {'MW': 15.8, 'T1': 729.0, 'T2': 66.5, 'corrT': 10.0},\n",
       " 'ER540': {'MW': 18.8, 'T1': 909.0, 'T2': 66.5, 'corrT': 11.3},\n",
       " 'SoR190': {'MW': 13.8, 'T1': 697.5, 'T2': 100.9, 'corrT': 7.7},\n",
       " 'TR80': {'MW': 10.5, 'T1': 612.8, 'T2': 102.9, 'corrT': 7.0},\n",
       " 'Ubiquitin': {'MW': 9.0, 'T1': 441.8, 'T2': 144.6, 'corrT': 4.4},\n",
       " 'HR2873B': {'MW': 10.7, 'T1': 492.0, 'T2': 115.0, 'corrT': 5.7},\n",
       " 'B-domain': {'MW': 7.2, 'T1': 423.5, 'T2': 153.3, 'corrT': 4.05},\n",
       " 'BcR97A': {'MW': 13.1, 'T1': 705.8, 'T2': 80.6, 'corrT': 8.8},\n",
       " 'PfR193A': {'MW': 13.6, 'T1': 733.9, 'T2': 80.9, 'corrT': 9.0},\n",
       " 'MvR76': {'MW': 20.2, 'T1': 1015.0, 'T2': 64.5, 'corrT': 12.2},\n",
       " 'DvR115G': {'MW': 10.9, 'T1': 608.7, 'T2': 115.6, 'corrT': 6.5},\n",
       " 'MrR110B': {'MW': 11.8, 'T1': 707.0, 'T2': 99.2, 'corrT': 7.8},\n",
       " 'VpR247': {'MW': 12.5, 'T1': 661.2, 'T2': 88.3, 'corrT': 8.05},\n",
       " 'BcR147A': {'MW': 11.9, 'T1': 645.0, 'T2': 104.0, 'corrT': 7.2},\n",
       " 'WR73': {'MW': 21.9, 'T1': 1261.0, 'T2': 41.3, 'corrT': 13.0},\n",
       " 'NsR431C': {'MW': 16.8, 'T1': 855.5, 'T2': 71.2, 'corrT': 10.6},\n",
       " 'StR82': {'MW': 9.2, 'T1': 537.3, 'T2': 100.4, 'corrT': 6.6}}"
      ]
     },
     "execution_count": 3,
     "metadata": {},
     "output_type": "execute_result"
    }
   ],
   "source": [
    "NESG_targets"
   ]
  },
  {
   "cell_type": "code",
   "execution_count": 45,
   "id": "bc28f144",
   "metadata": {},
   "outputs": [
    {
     "name": "stdout",
     "output_type": "stream",
     "text": [
      "61244688.537164114\n",
      "61238189.0296029\n",
      "60716591.36654701\n",
      "61007660.54650734\n",
      "60993823.42022128\n",
      "60682339.5547393\n",
      "60935916.8892931\n",
      "60882123.01556322\n",
      "60322923.67451021\n",
      "60801216.770046435\n",
      "61025096.24904496\n",
      "60894059.12305778\n",
      "60986293.62227959\n",
      "60713642.93241942\n",
      "61010842.234176725\n",
      "60880465.07797666\n",
      "60749689.17993713\n",
      "81254039.56774645\n",
      "60568999.869445205\n",
      "60417919.59317727\n",
      "nu_N: 61866326.012672804\n"
     ]
    }
   ],
   "source": [
    "nu_N=0\n",
    "for protein,data in NESG_targets.items():\n",
    "    print(np.sqrt(6*data['T1']/data['T2']-7)/(4*np.pi*data['corrT']*10**(-9)))\n",
    "    nu_N+=(np.sqrt(6*data['T1']/data['T2']-7))/(4*np.pi*data['corrT']*10**(-9))/len(NESG_targets)\n",
    "print(f'nu_N: {nu_N}')"
   ]
  },
  {
   "cell_type": "code",
   "execution_count": 27,
   "id": "c4ab8bb7",
   "metadata": {},
   "outputs": [
    {
     "name": "stdout",
     "output_type": "stream",
     "text": [
      "-609.2191147253235\n"
     ]
    }
   ],
   "source": [
    "gammaN=-27.166*10**6;\n",
    "gammaH=267.513*10**6;\n",
    "magnetic_field = nu_N / gammaN\n",
    "print(magnetic_field*gammaH/10**6)"
   ]
  },
  {
   "cell_type": "code",
   "execution_count": 10,
   "id": "d51baf75",
   "metadata": {},
   "outputs": [],
   "source": [
    "magn_field_MHz=600 # for values in MHz\n",
    "magnetic_field=magn_field_MHz*2*np.pi/gammaH*10**6"
   ]
  },
  {
   "cell_type": "code",
   "execution_count": 12,
   "id": "3ebc472b",
   "metadata": {},
   "outputs": [
    {
     "data": {
      "text/plain": [
       "600000000.0"
      ]
     },
     "execution_count": 12,
     "metadata": {},
     "output_type": "execute_result"
    }
   ],
   "source": [
    "gammaH * magnetic_field/2/np.pi"
   ]
  },
  {
   "cell_type": "code",
   "execution_count": 46,
   "id": "1603e031",
   "metadata": {},
   "outputs": [
    {
     "name": "stdout",
     "output_type": "stream",
     "text": [
      "  5.10   4.52\n",
      "  6.30   4.98\n",
      "  7.10   5.92\n",
      " 10.00   9.93\n",
      " 11.30   9.93\n",
      "  7.70   6.15\n",
      "  7.00   5.99\n",
      "  4.40   3.84\n",
      "  5.70   5.23\n",
      "  4.05   3.54\n",
      "  8.80   8.00\n",
      "  9.00   7.98\n",
      " 12.20  10.27\n",
      "  6.50   5.18\n",
      "  7.80   6.27\n",
      "  8.05   7.21\n",
      "  7.20   5.92\n",
      " 13.00  14.03\n",
      " 10.60   9.23\n",
      "  6.60   6.20\n"
     ]
    },
    {
     "data": {
      "text/plain": [
       "[<matplotlib.lines.Line2D at 0x7fca4b5e0490>]"
      ]
     },
     "execution_count": 46,
     "metadata": {},
     "output_type": "execute_result"
    },
    {
     "data": {
      "image/png": "[encoded data removed]",
      "text/plain": [
       "<Figure size 640x480 with 1 Axes>"
      ]
     },
     "metadata": {},
     "output_type": "display_data"
    }
   ],
   "source": [
    "for protein,data in NESG_targets.items():\n",
    "    nu_N=np.sqrt(6*data['T1']/data['T2']-7)/(4*np.pi*data['corrT']*10**(-9))\n",
    "    magn_field_MHz=(-1)* nu_N / gammaN *gammaH/10**6 \n",
    "    print(f\"{data['corrT']:>6.2f} {srt.find_tau_from_R2_np_poly1d(magn_field_MHz,1/data['T2']*1000)*10**9:>6.2f}\")\n",
    "    NESG_targets[protein]['app_effT']=srt.find_tau_from_R2_np_poly1d(magn_field_MHz,1/data['T2']*1000)*10**9\n",
    "    plt.plot(data['corrT'],NESG_targets[protein]['app_effT'],'o',c='C0')\n",
    "\n",
    "plt.plot([3,17],[3,17],'-',c='black')"
   ]
  },
  {
   "cell_type": "code",
   "execution_count": null,
   "id": "df8d981d",
   "metadata": {},
   "outputs": [],
   "source": []
  }
 ],
 "metadata": {
  "kernelspec": {
   "display_name": "all3",
   "language": "python",
   "name": "all3"
  },
  "language_info": {
   "codemirror_mode": {
    "name": "ipython",
    "version": 3
   },
   "file_extension": ".py",
   "mimetype": "text/x-python",
   "name": "python",
   "nbconvert_exporter": "python",
   "pygments_lexer": "ipython3",
   "version": "3.8.15"
  }
 },
 "nbformat": 4,
 "nbformat_minor": 5
}
