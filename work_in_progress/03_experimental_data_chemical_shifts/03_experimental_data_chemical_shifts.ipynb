{
 "cells": [
  {
   "cell_type": "code",
   "execution_count": 1,
   "id": "bf29fa2a",
   "metadata": {},
   "outputs": [
    {
     "data": {
      "text/plain": [
       "0"
      ]
     },
     "execution_count": 1,
     "metadata": {},
     "output_type": "execute_result"
    }
   ],
   "source": [
    "import numpy as np\n",
    "import gc\n",
    "import os\n",
    "import sys\n",
    "sys.path.append(\"../\")\n",
    "import matplotlib.pyplot as plt\n",
    "\n",
    "import SRT_optimization as srt\n",
    "\n",
    "from matplotlib.backends.backend_pdf import PdfPages\n",
    "\n",
    "\n",
    "gc.collect()"
   ]
  },
  {
   "cell_type": "code",
   "execution_count": 2,
   "id": "5cce647d",
   "metadata": {},
   "outputs": [],
   "source": [
    "BMBR_path=\"../../../CorysPeptides/sds_vs_peptide/BMRB_experimental_data/\"\n",
    "BMBR_path_shifts=\"../../../CorysPeptides/sds_vs_peptide/BMRB_experimental_data_chemical_shift/\""
   ]
  },
  {
   "cell_type": "code",
   "execution_count": 14,
   "id": "b7a81b4a",
   "metadata": {},
   "outputs": [],
   "source": [
    "for root, dirs, files in os.walk(BMBR_path_shifts):\n",
    "    for dire in dirs:\n",
    "        if not os.path.isdir(BMBR_path+dire):\n",
    "            print(dire)\n",
    "            os.system(\"rm -r \"+BMBR_path_shifts+dire)"
   ]
  },
  {
   "cell_type": "code",
   "execution_count": 6,
   "id": "b755f3c7",
   "metadata": {},
   "outputs": [
    {
     "data": {
      "text/plain": [
       "True"
      ]
     },
     "execution_count": 6,
     "metadata": {},
     "output_type": "execute_result"
    }
   ],
   "source": [
    "os.path.isdir(BMBR_path+\"bmr19127\")"
   ]
  },
  {
   "cell_type": "code",
   "execution_count": null,
   "id": "4986c4d4",
   "metadata": {},
   "outputs": [],
   "source": [
    "# load in experimental data\n",
    "experiments={}\n",
    "for root, dirs, files in os.walk(BMBR_path):\n",
    "    if len(files)==1:\n",
    "        file=root+\"/\"+files[0]\n",
    "apu=[]        \n",
    "if 1==1:\n",
    "    if 1==1:\n",
    "        file=BMBR_path+\"bmr4267/bmr4267_3.str\"\n",
    "        with open(file,\"r\") as f:\n",
    "            read_relaxations=False\n",
    "            read_shifts=False\n",
    "            counter_relaxations=0\n",
    "            counter_shifts=0\n",
    "            for idline,line in enumerate(f):\n",
    "                counter_relaxations+=1\n",
    "                counter_shifts+=1\n",
    "                if \"_Entry.ID\" in line:\n",
    "                    ID=line.split()[1]\n",
    "                    experiments[ID]={}\n",
    "                    experiments[ID][\"disordered\"]=False\n",
    "                    experiments[ID][\"micelle\"]=False\n",
    "                    experiments[ID][\"shifts\"]={}\n",
    "                    experiments[ID][\"shifts\"][\"AA_shift\"]=[]\n",
    "                    experiments[ID][\"shifts\"][\"atomID_shift\"]=[]\n",
    "                    shifts=[\"H\",\"HA\",\"C\",\"CA\",\"CB\",\"N\"]\n",
    "                    for shift in shifts:\n",
    "                        experiments[ID][\"shifts\"][shift]=[]\n",
    "                if \"_Heteronucl_T2_list.Spectrometer_frequency_1H\" in line:\n",
    "                    field=line.split()[1]\n",
    "                    try:\n",
    "                        if float(field)>1100:\n",
    "                            field=float(field)/1000000\n",
    "                    except:\n",
    "                        print(ID,field)\n",
    "                        \n",
    "                    \n",
    "                    experiments[ID][field]={}\n",
    "                    experiments[ID][field][\"results\"]={}\n",
    "                    experiments[ID][field][\"results\"][\"AA\"]=[]\n",
    "                    experiments[ID][field][\"results\"][\"atomID\"]=[]\n",
    "                    experiments[ID][field][\"results\"][\"R2\"]=[]\n",
    "\n",
    "                if \"_Heteronucl_T2_list.T2_val_units\" in line:\n",
    "                    units=line.split()[1]\n",
    "                    experiments[ID][field][\"units\"]=units\n",
    "                if \"_T2.Heteronucl_T2_list_ID\" in line:\n",
    "                    counter_relaxations=-3\n",
    "                if counter_relaxations==-1:\n",
    "                    read_relaxations=True\n",
    "                if read_relaxations:\n",
    "                    if len(line.split())==21:\n",
    "                        experiments[ID][field][\"results\"][\"AA\"].append(line.split()[6])\n",
    "                        experiments[ID][field][\"results\"][\"atomID\"].append(int(line.split()[5]))\n",
    "                        if experiments[ID][field][\"units\"]==\"s-1\" or experiments[ID][field][\"units\"]==\"Hz\":\n",
    "                            try:\n",
    "                                experiments[ID][field][\"results\"][\"R2\"].append(float(line.split()[10]))\n",
    "                            except:\n",
    "                                experiments[ID][field][\"results\"][\"R2\"].append(\"Nan\")\n",
    "                        elif experiments[ID][field][\"units\"]==\"s\":\n",
    "                            try:\n",
    "                                experiments[ID][field][\"results\"][\"R2\"].append(1/float(line.split()[10]))\n",
    "                            except:\n",
    "                                experiments[ID][field][\"results\"][\"R2\"].append(\"Nan\")\n",
    "                        elif experiments[ID][field][\"units\"]==\"ms\":\n",
    "                            try:\n",
    "                                experiments[ID][field][\"results\"][\"R2\"].append(1/float(line.split()[10])*1000)\n",
    "                            except:\n",
    "                                experiments[ID][field][\"results\"][\"R2\"].append(\"Nan\")\n",
    "                        elif experiments[ID][field][\"units\"]==\"ms-1\":\n",
    "                            try:\n",
    "                                experiments[ID][field][\"results\"][\"R2\"].append(float(line.split()[10])/1000)\n",
    "                            except:\n",
    "                                experiments[ID][field][\"results\"][\"R2\"].append(\"Nan\")\n",
    "\n",
    "                    else:\n",
    "                        read_relaxations=False\n",
    "                if \"_Atom_chem_shift.Assigned_chem_shift_list_ID\" in line:\n",
    "                    counter_shifts=-3\n",
    "                if counter_shifts==-1:\n",
    "                    read_shifts=True\n",
    "                if read_shifts:\n",
    "                    \n",
    "                    if len(line.split())==24:\n",
    "                        if len(experiments[ID][\"shifts\"][\"atomID_shift\"])>0:\n",
    "                            if line.split()[5]==experiments[ID][\"shifts\"][\"atomID_shift\"][-1]:\n",
    "                                for index,shift in enumerate(shifts):\n",
    "                                    if shift==line.split()[7]:\n",
    "                                        experiments[ID][\"shifts\"][shift].append(line.split()[10])\n",
    "                            else:\n",
    "                                apu.append(len(experiments[\"4267\"][\"shifts\"][\"CB\"]))\n",
    "                                print(\"New line starts here:\",len(experiments[\"4267\"][\"shifts\"][\"CB\"]))\n",
    "                                experiments[ID][\"shifts\"][\"atomID_shift\"].append(line.split()[5])\n",
    "                                experiments[ID][\"shifts\"][\"AA_shift\"].append(line.split()[6])\n",
    "                                for index,shift in enumerate(shifts):\n",
    "                                    if len(experiments[ID][\"shifts\"][shift])<len(experiments[ID][\"shifts\"][\"atomID_shift\"])-1:\n",
    "                                        experiments[ID][\"shifts\"][shifts[index]].append(\"Nan\")\n",
    "                                   \n",
    "                                    if shifts[index]==line.split()[7]:\n",
    "                                        experiments[ID][\"shifts\"][shifts[index]].append(line.split()[10])\n",
    "                                    \n",
    "                            #if len(experiments[\"4267\"][\"shifts\"][\"CB\"])>=11:\n",
    "                            #    print(idline,line.split()[5],line.split()[7],experiments[\"4267\"][\"shifts\"][\"CB\"])\n",
    "                            #    print(len(experiments[ID][\"shifts\"][\"atomID_shift\"]))\n",
    "                                \n",
    "                        else:\n",
    "                            experiments[ID][\"shifts\"][\"atomID_shift\"].append(line.split()[5])\n",
    "                            experiments[ID][\"shifts\"][\"AA_shift\"].append(line.split()[6])\n",
    "                            for index,shif in enumerate(shiftsP):\n",
    "                                if not shif:\n",
    "                                    experiments[ID][\"shifts\"][shifts[index]].append(\"Nan\")\n",
    "                                shiftsP[index]=False\n",
    "                            \n",
    "                        \n",
    "                \n",
    "                    \n",
    "                if (\"disorder\" in line or \"Disorder\" in line):\n",
    "                    experiments[ID][\"disordered\"]=True\n",
    "\n",
    "                if (\"micelle\" in line or \"Micelle\" in line):\n",
    "                    experiments[ID][\"micelle\"]=True\n",
    "                if \"_Assembly.Molecular_mass\" in line:\n",
    "                    \n",
    "                    if line.split()[1]!=\".\":\n",
    "                        experiments[ID][\"weight\"]=float(line.split()[1])\n",
    "                    else:\n",
    "                        experiments[ID][\"weight\"]=None"
   ]
  },
  {
   "cell_type": "code",
   "execution_count": 22,
   "id": "8976c3f4",
   "metadata": {},
   "outputs": [
    {
     "data": {
      "text/plain": [
       "[<matplotlib.lines.Line2D at 0x7f5b267e5e80>]"
      ]
     },
     "execution_count": 22,
     "metadata": {},
     "output_type": "execute_result"
    },
    {
     "data": {
      "image/png": "[encoded data removed]",
      "text/plain": [
       "<Figure size 640x480 with 1 Axes>"
      ]
     },
     "metadata": {},
     "output_type": "display_data"
    }
   ],
   "source": [
    "#noin residuella 30 on todennakoisesti jotain vika\n",
    "# ehka siella ei ole perassa 2 residuea ja se jostain syysta aiheuttaa ongelmia\n",
    "plt.plot(list(range(len(kk))),kk)"
   ]
  },
  {
   "cell_type": "code",
   "execution_count": 21,
   "id": "81718480",
   "metadata": {},
   "outputs": [
    {
     "ename": "TypeError",
     "evalue": "'list' object cannot be interpreted as an integer",
     "output_type": "error",
     "traceback": [
      "\u001b[0;31m---------------------------------------------------------------------------\u001b[0m",
      "\u001b[0;31mTypeError\u001b[0m                                 Traceback (most recent call last)",
      "\u001b[0;32m/tmp/ipykernel_4170/4281730275.py\u001b[0m in \u001b[0;36m<cell line: 1>\u001b[0;34m()\u001b[0m\n\u001b[0;32m----> 1\u001b[0;31m \u001b[0mlist\u001b[0m\u001b[0;34m(\u001b[0m\u001b[0mrange\u001b[0m\u001b[0;34m(\u001b[0m\u001b[0;36m0\u001b[0m\u001b[0;34m,\u001b[0m\u001b[0mkk\u001b[0m\u001b[0;34m)\u001b[0m\u001b[0;34m)\u001b[0m\u001b[0;34m,\u001b[0m\u001b[0;34m\u001b[0m\u001b[0;34m\u001b[0m\u001b[0m\n\u001b[0m",
      "\u001b[0;31mTypeError\u001b[0m: 'list' object cannot be interpreted as an integer"
     ]
    }
   ],
   "source": [
    "list(range(0,kk)),"
   ]
  },
  {
   "cell_type": "code",
   "execution_count": 17,
   "id": "29aa7020",
   "metadata": {},
   "outputs": [],
   "source": [
    "kk=[]\n",
    "for i in range(len(apu)-1):\n",
    "    kk.append(apu[i+1]-apu[i])"
   ]
  },
  {
   "cell_type": "code",
   "execution_count": 5,
   "id": "ab2be0dc",
   "metadata": {},
   "outputs": [
    {
     "name": "stdout",
     "output_type": "stream",
     "text": [
      "178\n",
      "178\n",
      "178\n",
      "177\n",
      "178\n",
      "178\n",
      "177\n",
      "178\n"
     ]
    }
   ],
   "source": [
    "print(len(experiments[\"4267\"][\"shifts\"][\"AA_shift\"]))\n",
    "print(len(experiments[\"4267\"][\"shifts\"][\"atomID_shift\"]))\n",
    "print(len(experiments[\"4267\"][\"shifts\"][\"H\"]))\n",
    "print(len(experiments[\"4267\"][\"shifts\"][\"HA\"]))\n",
    "print(len(experiments[\"4267\"][\"shifts\"][\"CA\"]))\n",
    "print(len(experiments[\"4267\"][\"shifts\"][\"C\"]))\n",
    "print(len(experiments[\"4267\"][\"shifts\"][\"CB\"]))\n",
    "print(len(experiments[\"4267\"][\"shifts\"][\"N\"]))"
   ]
  },
  {
   "cell_type": "code",
   "execution_count": 14,
   "id": "76fae569",
   "metadata": {},
   "outputs": [
    {
     "name": "stdout",
     "output_type": "stream",
     "text": [
      "3 1 HE2 ['Nan']\n",
      "4 1 HE3 ['Nan']\n",
      "5 1 CE ['Nan']\n",
      "New line starts here: [False, False, False, False, False, False]\n",
      "6 2 HA ['Nan']\n",
      "7 2 HB2 ['Nan']\n",
      "8 2 HB3 ['Nan']\n",
      "9 2 HG2 ['Nan']\n",
      "10 2 HG3 ['Nan']\n",
      "11 2 C ['Nan']\n",
      "12 2 CA ['Nan']\n",
      "13 2 CB ['Nan']\n",
      "New line starts here: [False, False, False, False, False, False]\n",
      "14 3 H ['Nan', 'Nan', '8.58']\n",
      "3\n",
      "15 3 HA ['Nan', 'Nan', '8.58']\n",
      "16 3 HB2 ['Nan', 'Nan', '8.58']\n",
      "17 3 HB3 ['Nan', 'Nan', '8.58']\n",
      "18 3 C ['Nan', 'Nan', '8.58']\n",
      "19 3 CA ['Nan', 'Nan', '8.58']\n",
      "20 3 CB ['Nan', 'Nan', '8.58']\n",
      "21 3 N ['Nan', 'Nan', '8.58']\n",
      "New line starts here: [False, False, False, False, False, False]\n",
      "22 4 H ['Nan', 'Nan', '8.58', '8.51']\n",
      "4\n",
      "23 4 HA ['Nan', 'Nan', '8.58', '8.51']\n",
      "24 4 HB2 ['Nan', 'Nan', '8.58', '8.51']\n",
      "25 4 HB3 ['Nan', 'Nan', '8.58', '8.51']\n",
      "26 4 C ['Nan', 'Nan', '8.58', '8.51']\n",
      "27 4 CA ['Nan', 'Nan', '8.58', '8.51']\n",
      "28 4 CB ['Nan', 'Nan', '8.58', '8.51']\n",
      "29 4 N ['Nan', 'Nan', '8.58', '8.51']\n",
      "New line starts here: [False, False, False, False, False, False]\n",
      "30 5 H ['Nan', 'Nan', '8.58', '8.51', '8.38']\n",
      "5\n",
      "31 5 HA ['Nan', 'Nan', '8.58', '8.51', '8.38']\n",
      "32 5 HB ['Nan', 'Nan', '8.58', '8.51', '8.38']\n",
      "33 5 HG21 ['Nan', 'Nan', '8.58', '8.51', '8.38']\n",
      "34 5 HG22 ['Nan', 'Nan', '8.58', '8.51', '8.38']\n",
      "35 5 HG23 ['Nan', 'Nan', '8.58', '8.51', '8.38']\n",
      "36 5 C ['Nan', 'Nan', '8.58', '8.51', '8.38']\n",
      "37 5 CA ['Nan', 'Nan', '8.58', '8.51', '8.38']\n",
      "38 5 CB ['Nan', 'Nan', '8.58', '8.51', '8.38']\n",
      "39 5 CG2 ['Nan', 'Nan', '8.58', '8.51', '8.38']\n",
      "40 5 N ['Nan', 'Nan', '8.58', '8.51', '8.38']\n"
     ]
    }
   ],
   "source": [
    "experiments={}\n",
    "for root, dirs, files in os.walk(BMBR_path):\n",
    "    if len(files)==1:\n",
    "        file=root+\"/\"+files[0]\n",
    "        \n",
    "if 1==1:\n",
    "    if 1==1:\n",
    "        file=\"load_data_does_not_work.test\"\n",
    "        with open(file,\"r\") as f:\n",
    "            read_relaxations=False\n",
    "            read_shifts=False\n",
    "            counter_relaxations=0\n",
    "            counter_shifts=0\n",
    "            HN=False\n",
    "            Ha=False\n",
    "            C=False\n",
    "            Ca=False\n",
    "            Cb=False\n",
    "            N=False\n",
    "\n",
    "            experiments[\"shifts\"]={}\n",
    "            experiments[\"shifts\"][\"AA_shift\"]=[]\n",
    "            experiments[\"shifts\"][\"atomID_shift\"]=[]\n",
    "            shifts=[\"H\",\"HA\",\"C\",\"CA\",\"CB\",\"N\"]\n",
    "            for shift in shifts:\n",
    "                experiments[\"shifts\"][shift]=[]\n",
    "            \n",
    "            for idline,line in enumerate(f):\n",
    "                counter_relaxations+=1\n",
    "                counter_shifts+=1\n",
    "\n",
    "\n",
    "                \n",
    "                if \"_Atom_chem_shift.Assigned_chem_shift_list_ID\" in line:\n",
    "                    counter_shifts=-3\n",
    "                if counter_shifts==-1:\n",
    "                    read_shifts=True\n",
    "                if read_shifts:\n",
    "                    shiftsP=[HN,Ha,C,Ca,Cb,N]\n",
    "                    if len(line.split())==24:\n",
    "                        if len(experiments[\"shifts\"][\"atomID_shift\"])>0:\n",
    "                            if line.split()[5]==experiments[\"shifts\"][\"atomID_shift\"][-1]:\n",
    "                                for index,shift in enumerate(shifts):\n",
    "                                    if shift==line.split()[7]:\n",
    "                                        experiments[\"shifts\"][shift].append(line.split()[10])\n",
    "                                        shiftsP[index]=True\n",
    "                                        if shift==\"HA\":\n",
    "                                            print(line.split()[5])\n",
    "                                #print(line.split()[5], shiftsP)\n",
    "                            else:\n",
    "                                print(\"New line starts here:\",shiftsP)\n",
    "                                experiments[\"shifts\"][\"atomID_shift\"].append(line.split()[5])\n",
    "                                experiments[\"shifts\"][\"AA_shift\"].append(line.split()[6])\n",
    "                                for index,shift in enumerate(shifts):\n",
    "                                    if len(experiments[\"shifts\"][shift])<len(experiments[\"shifts\"][\"atomID_shift\"])-1:\n",
    "                                        experiments[\"shifts\"][shifts[index]].append(\"Nan\")\n",
    "                                   \n",
    "                                    if shift==line.split()[7]:\n",
    "                                        experiments[\"shifts\"][shift].append(line.split()[10])\n",
    "                                        shiftsP[index]=True\n",
    "                                    \n",
    "                                    shiftsP[index]=False\n",
    "                            print(idline,line.split()[5],line.split()[7],experiments[\"shifts\"][\"H\"])\n",
    "                                \n",
    "                        else:\n",
    "                            experiments[\"shifts\"][\"atomID_shift\"].append(line.split()[5])\n",
    "                            experiments[\"shifts\"][\"AA_shift\"].append(line.split()[6])\n",
    "                            for index,shif in enumerate(shiftsP):\n",
    "                                if not shif:\n",
    "                                    experiments[\"shifts\"][shifts[index]].append(\"Nan\")\n",
    "                                shiftsP[index]=False\n",
    "                            \n",
    "                        \n",
    "                \n",
    "               "
   ]
  },
  {
   "cell_type": "code",
   "execution_count": 15,
   "id": "0ddb1cd2",
   "metadata": {},
   "outputs": [
    {
     "name": "stdout",
     "output_type": "stream",
     "text": [
      "5\n",
      "5\n",
      "5\n",
      "5\n",
      "5\n",
      "5\n",
      "5\n",
      "5\n"
     ]
    }
   ],
   "source": [
    "print(len(experiments[\"shifts\"][\"AA_shift\"]))\n",
    "print(len(experiments[\"shifts\"][\"atomID_shift\"]))\n",
    "print(len(experiments[\"shifts\"][\"H\"]))\n",
    "print(len(experiments[\"shifts\"][\"HA\"]))\n",
    "print(len(experiments[\"shifts\"][\"CA\"]))\n",
    "print(len(experiments[\"shifts\"][\"C\"]))\n",
    "print(len(experiments[\"shifts\"][\"CB\"]))\n",
    "print(len(experiments[\"shifts\"][\"N\"]))"
   ]
  },
  {
   "cell_type": "code",
   "execution_count": null,
   "id": "0049b028",
   "metadata": {},
   "outputs": [],
   "source": []
  }
 ],
 "metadata": {
  "kernelspec": {
   "display_name": "all3",
   "language": "python",
   "name": "all3"
  },
  "language_info": {
   "codemirror_mode": {
    "name": "ipython",
    "version": 3
   },
   "file_extension": ".py",
   "mimetype": "text/x-python",
   "name": "python",
   "nbconvert_exporter": "python",
   "pygments_lexer": "ipython3",
   "version": "3.8.15"
  }
 },
 "nbformat": 4,
 "nbformat_minor": 5
}
